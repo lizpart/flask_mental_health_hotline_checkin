{
 "cells": [
  {
   "cell_type": "markdown",
   "id": "8752756a",
   "metadata": {},
   "source": [
    "# Demo: scipy.stats & statsmodels\n",
    "This notebook demonstrates common hypothesis tests (t-test, chi-square, one-way ANOVA) using `scipy.stats`, and regression + diagnostics (OLS, VIF, Durbin-Watson, Breusch–Pagan) using `statsmodels`.\n",
    "\n",
    "You can run this notebook locally or review the code snippets and outputs."
   ]
  },
  {
   "cell_type": "code",
   "execution_count": null,
   "id": "2fa4ce93",
   "metadata": {},
   "outputs": [],
   "source": [
    "import numpy as np\n",
    "import pandas as pd\n",
    "from scipy import stats\n",
    "import statsmodels.api as sm\n",
    "from statsmodels.stats.outliers_influence import variance_inflation_factor\n",
    "from statsmodels.stats.diagnostic import het_breuschpagan\n",
    "from statsmodels.stats.stattools import durbin_watson\n",
    "\n",
    "np.random.seed(0)\n"
   ]
  },
  {
   "cell_type": "code",
   "execution_count": null,
   "id": "4b3e93d3",
   "metadata": {},
   "outputs": [],
   "source": [
    "# Generate synthetic data for examples\n",
    "group_a = np.random.normal(loc=5.0, scale=1.0, size=50)\n",
    "group_b = np.random.normal(loc=5.5, scale=1.2, size=55)\n",
    "\n",
    "contingency = np.array([[30, 10], [20, 40]])\n",
    "\n",
    "g1 = np.random.normal(5.0, 1.0, size=30)\n",
    "g2 = np.random.normal(5.4, 1.1, size=28)\n",
    "g3 = np.random.normal(4.8, 0.9, size=32)\n",
    "\n",
    "n = 200\n",
    "x1 = np.random.normal(10, 2, size=n)\n",
    "x2 = np.random.normal(5, 1.5, size=n)\n",
    "x3 = x1 * 0.8 + np.random.normal(0, 0.5, size=n)\n",
    "y = 2.0 + 0.5 * x1 - 0.3 * x2 + 0.1 * x3 + np.random.normal(0, 1.0, size=n)\n",
    "\n",
    "df = pd.DataFrame({'y': y, 'x1': x1, 'x2': x2, 'x3': x3})\n",
    "df.head()\n"
   ]
  },
  {
   "cell_type": "code",
   "execution_count": null,
   "id": "70d805f7",
   "metadata": {},
   "outputs": [],
   "source": [
    "# Independent t-test (Welch's t-test)\n",
    "tstat, pval = stats.ttest_ind(group_a, group_b, equal_var=False)\n",
    "print('t-statistic:', tstat)\n",
    "print('p-value:', pval)\n"
   ]
  },
  {
   "cell_type": "code",
   "execution_count": null,
   "id": "a8cdf1b8",
   "metadata": {},
   "outputs": [],
   "source": [
    "# Chi-square test of independence\n",
    "chi2, p, dof, expected = stats.chi2_contingency(contingency)\n",
    "print('chi2:', chi2)\n",
    "print('p-value:', p)\n",
    "print('degrees of freedom:', dof)\n",
    "print('expected frequencies:\\n', expected)\n"
   ]
  },
  {
   "cell_type": "code",
   "execution_count": null,
   "id": "b4247e0a",
   "metadata": {},
   "outputs": [],
   "source": [
    "# One-way ANOVA\n",
    "fstat, p_anova = stats.f_oneway(g1, g2, g3)\n",
    "print('F-statistic:', fstat)\n",
    "print('p-value:', p_anova)\n"
   ]
  },
  {
   "cell_type": "code",
   "execution_count": null,
   "id": "334bfba6",
   "metadata": {},
   "outputs": [],
   "source": [
    "# OLS regression with statsmodels\n",
    "X = df[['x1','x2','x3']]\n",
    "X = sm.add_constant(X)\n",
    "model = sm.OLS(df['y'], X).fit()\n",
    "print(model.summary())\n"
   ]
  },
  {
   "cell_type": "code",
   "execution_count": null,
   "id": "43834a24",
   "metadata": {},
   "outputs": [],
   "source": [
    "# VIF to check multicollinearity\n",
    "vif_data = pd.DataFrame()\n",
    "vif_data['feature'] = X.columns\n",
    "vif_data['VIF'] = [variance_inflation_factor(X.values, i) for i in range(X.shape[1])]\n",
    "vif_data\n"
   ]
  },
  {
   "cell_type": "code",
   "execution_count": null,
   "id": "f7f4c6a8",
   "metadata": {},
   "outputs": [],
   "source": [
    "# Durbin-Watson for autocorrelation of residuals\n",
    "dw = durbin_watson(model.resid)\n",
    "print('Durbin-Watson:', dw)\n",
    "\n",
    "# Breusch-Pagan test for heteroscedasticity\n",
    "bp_test = het_breuschpagan(model.resid, model.model.exog)\n",
    "bp_labels = ['Lagrange multiplier stat', 'LM p-value', 'f-value', 'f p-value']\n",
    "print(dict(zip(bp_labels, bp_test)))\n"
   ]
  }
 ],
 "metadata": {
  "language_info": {
   "name": "python"
  }
 },
 "nbformat": 4,
 "nbformat_minor": 5
}
